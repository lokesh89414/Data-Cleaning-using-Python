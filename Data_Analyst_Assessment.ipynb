{
  "nbformat": 4,
  "nbformat_minor": 0,
  "metadata": {
    "colab": {
      "provenance": [],
      "authorship_tag": "ABX9TyMZkqy2LPhxQ165vJDfrHhL",
      "include_colab_link": true
    },
    "kernelspec": {
      "name": "python3",
      "display_name": "Python 3"
    },
    "language_info": {
      "name": "python"
    }
  },
  "cells": [
    {
      "cell_type": "markdown",
      "metadata": {
        "id": "view-in-github",
        "colab_type": "text"
      },
      "source": [
        "<a href=\"https://colab.research.google.com/github/lokesh89414/Data-Cleaning-using-Python/blob/main/Data_Analyst_Assessment.ipynb\" target=\"_parent\"><img src=\"https://colab.research.google.com/assets/colab-badge.svg\" alt=\"Open In Colab\"/></a>"
      ]
    },
    {
      "cell_type": "code",
      "execution_count": null,
      "metadata": {
        "id": "k2SJr2vibknA"
      },
      "outputs": [],
      "source": [
        "import pandas as pd\n",
        "import numpy as np"
      ]
    },
    {
      "cell_type": "markdown",
      "source": [
        "Load the data"
      ],
      "metadata": {
        "id": "nhAEc-PQb1Ay"
      }
    },
    {
      "cell_type": "code",
      "source": [
        "df = pd.read_csv(\"empd.csv\")"
      ],
      "metadata": {
        "id": "nEWDlrvnbyf8"
      },
      "execution_count": null,
      "outputs": []
    },
    {
      "cell_type": "markdown",
      "source": [
        " Missing Salary Imputation"
      ],
      "metadata": {
        "id": "NxChGOnGcF47"
      }
    },
    {
      "cell_type": "code",
      "source": [
        "df['salary'] = df.groupby('department')['salary'].transform(lambda x: x.fillna(x.median()))"
      ],
      "metadata": {
        "id": "gCVCz1Ffb-F7"
      },
      "execution_count": null,
      "outputs": []
    },
    {
      "cell_type": "markdown",
      "source": [
        "Duplicate Employee ID Checking"
      ],
      "metadata": {
        "id": "gwcezZtKcH1Q"
      }
    },
    {
      "cell_type": "code",
      "source": [
        "duplicate_ids = df['employee_id'][df.duplicated('employee_id', keep=False)].unique()\n",
        "print(\"Duplicate Employee IDs:\", duplicate_ids)"
      ],
      "metadata": {
        "colab": {
          "base_uri": "https://localhost:8080/"
        },
        "id": "Jxvnvey_cAU1",
        "outputId": "0d1800b7-7a40-416b-ca26-f6fa39fbdf07"
      },
      "execution_count": null,
      "outputs": [
        {
          "output_type": "stream",
          "name": "stdout",
          "text": [
            "Duplicate Employee IDs: ['EMP0018' 'EMP0037' 'EMP0052' 'EMP0054' 'EMP0064' 'EMP0096' 'EMP0103'\n",
            " 'EMP0135' 'EMP0145' 'EMP0150' 'EMP0191' 'EMP0193' 'EMP0195' 'EMP0215'\n",
            " 'EMP0247' 'EMP0257' 'EMP0265' 'EMP0267' 'EMP0271' 'EMP0275' 'EMP0292'\n",
            " 'EMP0306' 'EMP0332' 'EMP0346' 'EMP0347' 'EMP0379' 'EMP0396' 'EMP0417'\n",
            " 'EMP0438' 'EMP0458' 'EMP0468' 'EMP0478' 'EMP0487' 'EMP0492' 'EMP0567'\n",
            " 'EMP0579' 'EMP0582' 'EMP0586' 'EMP0595' 'EMP0635' 'EMP0699' 'EMP0706'\n",
            " 'EMP0718' 'EMP0745' 'EMP0750' 'EMP0760' 'EMP0802' 'EMP0824' 'EMP0878'\n",
            " 'EMP0888' 'EMP0903' 'EMP0918' 'EMP0979' 'EMP1029' 'EMP1037' 'EMP1055'\n",
            " 'EMP1061' 'EMP1076' 'EMP1091' 'EMP1126']\n"
          ]
        }
      ]
    },
    {
      "cell_type": "markdown",
      "source": [
        "Performance Score Conversion"
      ],
      "metadata": {
        "id": "zNeUhIoOcMK6"
      }
    },
    {
      "cell_type": "code",
      "source": [
        "def convert_performance(score):\n",
        "    try:\n",
        "        return int(score) if pd.notna(score) else -1\n",
        "    except ValueError:\n",
        "        return -1\n",
        "\n",
        "df['performance_score'] = df['performance_score'].apply(convert_performance)"
      ],
      "metadata": {
        "id": "3B27BMBCcCUs"
      },
      "execution_count": null,
      "outputs": []
    },
    {
      "source": [
        "df['performance_score'].head()"
      ],
      "cell_type": "code",
      "metadata": {
        "colab": {
          "base_uri": "https://localhost:8080/",
          "height": 241
        },
        "id": "KhyNIQiQcj0W",
        "outputId": "034f0422-db0f-4bd5-fb53-b8275419b012"
      },
      "execution_count": null,
      "outputs": [
        {
          "output_type": "execute_result",
          "data": {
            "text/plain": [
              "0    5\n",
              "1    5\n",
              "2    3\n",
              "3   -1\n",
              "4    2\n",
              "Name: performance_score, dtype: int64"
            ],
            "text/html": [
              "<div>\n",
              "<style scoped>\n",
              "    .dataframe tbody tr th:only-of-type {\n",
              "        vertical-align: middle;\n",
              "    }\n",
              "\n",
              "    .dataframe tbody tr th {\n",
              "        vertical-align: top;\n",
              "    }\n",
              "\n",
              "    .dataframe thead th {\n",
              "        text-align: right;\n",
              "    }\n",
              "</style>\n",
              "<table border=\"1\" class=\"dataframe\">\n",
              "  <thead>\n",
              "    <tr style=\"text-align: right;\">\n",
              "      <th></th>\n",
              "      <th>performance_score</th>\n",
              "    </tr>\n",
              "  </thead>\n",
              "  <tbody>\n",
              "    <tr>\n",
              "      <th>0</th>\n",
              "      <td>5</td>\n",
              "    </tr>\n",
              "    <tr>\n",
              "      <th>1</th>\n",
              "      <td>5</td>\n",
              "    </tr>\n",
              "    <tr>\n",
              "      <th>2</th>\n",
              "      <td>3</td>\n",
              "    </tr>\n",
              "    <tr>\n",
              "      <th>3</th>\n",
              "      <td>-1</td>\n",
              "    </tr>\n",
              "    <tr>\n",
              "      <th>4</th>\n",
              "      <td>2</td>\n",
              "    </tr>\n",
              "  </tbody>\n",
              "</table>\n",
              "</div><br><label><b>dtype:</b> int64</label>"
            ]
          },
          "metadata": {},
          "execution_count": 9
        }
      ]
    },
    {
      "cell_type": "markdown",
      "source": [
        " Date Format Standardization"
      ],
      "metadata": {
        "id": "pc6oBEz9dAck"
      }
    },
    {
      "cell_type": "code",
      "source": [
        "def format_date(date_str):\n",
        "    try:\n",
        "        return pd.to_datetime(date_str, errors='raise').strftime('%Y-%m-%d')\n",
        "    except Exception:\n",
        "        print(f\"Error converting date: {date_str}\")\n",
        "        return np.nan\n",
        "\n",
        "df['join_date'] = df['join_date'].apply(format_date)\n",
        "df.dropna(subset=['join_date'], inplace=True)  # Remove problematic rows\n",
        "df['join_year'] = pd.to_datetime(df['join_date']).dt.year.astype(int)\n"
      ],
      "metadata": {
        "colab": {
          "base_uri": "https://localhost:8080/"
        },
        "id": "dFi5PVqGceDl",
        "outputId": "f0625892-adcf-4fac-9d14-56f1aa399a56"
      },
      "execution_count": null,
      "outputs": [
        {
          "output_type": "stream",
          "name": "stdout",
          "text": [
            "Error converting date: nan\n",
            "Error converting date: nan\n",
            "Error converting date: nan\n",
            "Error converting date: nan\n",
            "Error converting date: nan\n",
            "Error converting date: nan\n",
            "Error converting date: nan\n",
            "Error converting date: nan\n",
            "Error converting date: nan\n",
            "Error converting date: nan\n",
            "Error converting date: nan\n",
            "Error converting date: nan\n",
            "Error converting date: nan\n",
            "Error converting date: nan\n",
            "Error converting date: nan\n",
            "Error converting date: nan\n",
            "Error converting date: nan\n",
            "Error converting date: nan\n",
            "Error converting date: nan\n",
            "Error converting date: nan\n",
            "Error converting date: nan\n",
            "Error converting date: nan\n",
            "Error converting date: nan\n",
            "Error converting date: nan\n",
            "Error converting date: nan\n",
            "Error converting date: nan\n",
            "Error converting date: nan\n",
            "Error converting date: nan\n",
            "Error converting date: nan\n",
            "Error converting date: nan\n",
            "Error converting date: nan\n",
            "Error converting date: nan\n",
            "Error converting date: nan\n",
            "Error converting date: nan\n",
            "Error converting date: nan\n",
            "Error converting date: nan\n",
            "Error converting date: nan\n",
            "Error converting date: nan\n",
            "Error converting date: nan\n",
            "Error converting date: nan\n",
            "Error converting date: nan\n",
            "Error converting date: nan\n",
            "Error converting date: nan\n",
            "Error converting date: nan\n",
            "Error converting date: nan\n",
            "Error converting date: nan\n",
            "Error converting date: nan\n",
            "Error converting date: nan\n",
            "Error converting date: nan\n",
            "Error converting date: nan\n",
            "Error converting date: nan\n",
            "Error converting date: nan\n",
            "Error converting date: nan\n"
          ]
        },
        {
          "output_type": "stream",
          "name": "stderr",
          "text": [
            "<ipython-input-11-4235bb8016c8>:3: UserWarning: Parsing dates in %d-%m-%Y format when dayfirst=False (the default) was specified. Pass `dayfirst=True` or specify a format to silence this warning.\n",
            "  return pd.to_datetime(date_str, errors='raise').strftime('%Y-%m-%d')\n"
          ]
        },
        {
          "output_type": "stream",
          "name": "stdout",
          "text": [
            "Error converting date: nan\n",
            "Error converting date: nan\n",
            "Error converting date: nan\n",
            "Error converting date: nan\n",
            "Error converting date: nan\n",
            "Error converting date: nan\n",
            "Error converting date: nan\n",
            "Error converting date: nan\n",
            "Error converting date: nan\n",
            "Error converting date: nan\n",
            "Error converting date: nan\n",
            "Error converting date: nan\n",
            "Error converting date: nan\n",
            "Error converting date: nan\n",
            "Error converting date: nan\n",
            "Error converting date: nan\n",
            "Error converting date: nan\n",
            "Error converting date: nan\n",
            "Error converting date: nan\n",
            "Error converting date: nan\n",
            "Error converting date: nan\n",
            "Error converting date: nan\n",
            "Error converting date: nan\n",
            "Error converting date: nan\n",
            "Error converting date: nan\n",
            "Error converting date: nan\n",
            "Error converting date: nan\n",
            "Error converting date: nan\n",
            "Error converting date: nan\n",
            "Error converting date: nan\n",
            "Error converting date: nan\n",
            "Error converting date: nan\n",
            "Error converting date: nan\n",
            "Error converting date: nan\n",
            "Error converting date: nan\n",
            "Error converting date: nan\n",
            "Error converting date: nan\n",
            "Error converting date: nan\n",
            "Error converting date: nan\n",
            "Error converting date: nan\n",
            "Error converting date: nan\n",
            "Error converting date: nan\n",
            "Error converting date: nan\n",
            "Error converting date: nan\n",
            "Error converting date: nan\n",
            "Error converting date: nan\n",
            "Error converting date: nan\n",
            "Error converting date: nan\n",
            "Error converting date: nan\n",
            "Error converting date: nan\n",
            "Error converting date: nan\n",
            "Error converting date: nan\n",
            "Error converting date: nan\n",
            "Error converting date: nan\n",
            "Error converting date: nan\n",
            "Error converting date: nan\n",
            "Error converting date: nan\n"
          ]
        }
      ]
    },
    {
      "cell_type": "markdown",
      "source": [
        "Department Typo Correction"
      ],
      "metadata": {
        "id": "GLn4a0sMdI9Q"
      }
    },
    {
      "cell_type": "code",
      "source": [
        "department_mapping = {\n",
        "    'HR ': 'HR',\n",
        "    'Financ': 'Finance',\n",
        "    'Engg': 'Engineering'\n",
        "}\n",
        "df['department'] = df['department'].replace(department_mapping)\n",
        "\n",
        "# 6. Salary Outlier Removal\n",
        "mean_salary = df['salary'].mean()\n",
        "std_salary = df['salary'].std()\n",
        "df = df[(df['salary'] >= mean_salary - 3 * std_salary) & (df['salary'] <= mean_salary + 3 * std_salary)]\n"
      ],
      "metadata": {
        "id": "bEaF3gPBdDp-"
      },
      "execution_count": null,
      "outputs": []
    },
    {
      "cell_type": "markdown",
      "source": [
        "Email Domain Extraction"
      ],
      "metadata": {
        "id": "P34J7CpfdP8K"
      }
    },
    {
      "cell_type": "code",
      "source": [
        "def extract_domain(email):\n",
        "    try:\n",
        "        return email.split('@')[1] if pd.notna(email) and '@' in email else None\n",
        "    except Exception:\n",
        "        return None\n",
        "\n",
        "df['email_domain'] = df['email'].apply(extract_domain)\n"
      ],
      "metadata": {
        "id": "citLcLoBdNcR"
      },
      "execution_count": null,
      "outputs": []
    },
    {
      "cell_type": "markdown",
      "source": [
        "Salary Correlation Calculation"
      ],
      "metadata": {
        "id": "y5fITQi6ddc2"
      }
    },
    {
      "cell_type": "code",
      "source": [
        "correlation = df[['salary', 'join_year']].corr().loc['salary', 'join_year']\n",
        "print(\"Pearson Correlation between Salary and Join Year:\", correlation)\n"
      ],
      "metadata": {
        "colab": {
          "base_uri": "https://localhost:8080/"
        },
        "id": "5bVD54j7damT",
        "outputId": "8a997d14-b146-4eb9-8272-8864292b5a7b"
      },
      "execution_count": null,
      "outputs": [
        {
          "output_type": "stream",
          "name": "stdout",
          "text": [
            "Pearson Correlation between Salary and Join Year: 0.004624417870338821\n"
          ]
        }
      ]
    },
    {
      "cell_type": "markdown",
      "source": [
        "Average Salary Aggregation (Pivot Table)"
      ],
      "metadata": {
        "id": "OAJAk2RkdiIn"
      }
    },
    {
      "cell_type": "code",
      "source": [
        "pivot_table = df.pivot_table(values='salary', index='department', columns='job_title', aggfunc='mean')\n",
        "print(\"Average Salary Pivot Table:\\n\", pivot_table)"
      ],
      "metadata": {
        "colab": {
          "base_uri": "https://localhost:8080/"
        },
        "id": "26yJlVrOdYYP",
        "outputId": "565786fc-b986-4594-84b9-d049443c9bff"
      },
      "execution_count": null,
      "outputs": [
        {
          "output_type": "stream",
          "name": "stdout",
          "text": [
            "Average Salary Pivot Table:\n",
            " job_title    Director Analyst  Director Consultant  Director Engineer  \\\n",
            "department                                                              \n",
            "Engineering      83635.692308         88402.571429       79945.444444   \n",
            "Enginering       94702.000000         92592.000000                NaN   \n",
            "Finance          79695.714286         85475.666667       84891.555556   \n",
            "HR               82754.636364         79135.285714       70093.857143   \n",
            "IT               76903.363636         90364.400000       76453.857143   \n",
            "Marketing        72155.750000         76465.500000       79329.181818   \n",
            "Marketting                NaN                  NaN                NaN   \n",
            "Operations       87076.208333         80941.000000       94778.750000   \n",
            "Sales            75914.571429         80046.083333       74522.750000   \n",
            "\n",
            "job_title    Director Manager  Junior Analyst  Junior Consultant  \\\n",
            "department                                                         \n",
            "Engineering      87945.000000    75531.500000       89315.000000   \n",
            "Enginering                NaN             NaN                NaN   \n",
            "Finance          90154.500000    75257.933333       90413.900000   \n",
            "HR               78207.000000    77863.444444       84401.750000   \n",
            "IT               61862.000000    86084.888889       75242.750000   \n",
            "Marketing        77597.333333    85294.800000       88817.000000   \n",
            "Marketting                NaN   113678.000000                NaN   \n",
            "Operations       80882.090909    84956.888889       71753.416667   \n",
            "Sales            83162.142857    82035.333333       71802.000000   \n",
            "\n",
            "job_title    Junior Engineer  Junior Manager  Lead Analyst  Lead Consultant  \\\n",
            "department                                                                    \n",
            "Engineering     75694.466667    85434.875000  88536.416667     88577.600000   \n",
            "Enginering               NaN    47850.000000           NaN    103263.000000   \n",
            "Finance         81377.750000    66679.142857  80503.625000     70027.000000   \n",
            "HR              91875.750000    76312.600000  79469.363636     84617.777778   \n",
            "IT              87618.833333    78152.875000  77049.555556     76460.375000   \n",
            "Marketing       90265.833333    90887.600000  79974.000000     66082.625000   \n",
            "Marketting               NaN             NaN  89135.000000              NaN   \n",
            "Operations      79008.071429    81959.125000  90847.500000     71291.208333   \n",
            "Sales           86470.400000    86882.250000  76244.500000     92062.272727   \n",
            "\n",
            "job_title    Lead Engineer  Lead Manager  Manager Analyst  Manager Consultant  \\\n",
            "department                                                                      \n",
            "Engineering   83242.888889  72874.400000     60108.200000        81187.857143   \n",
            "Enginering             NaN           NaN              NaN        96257.000000   \n",
            "Finance       80409.636364  87555.142857     78998.000000        79685.571429   \n",
            "HR            85942.818182  80071.166667     61347.000000        77102.750000   \n",
            "IT            77277.000000  83334.400000     83041.500000        95730.428571   \n",
            "Marketing     92537.714286  89838.111111     84557.857143        73704.800000   \n",
            "Marketting             NaN           NaN              NaN        79927.000000   \n",
            "Operations    77131.944444  82369.583333     74241.800000        74570.222222   \n",
            "Sales         86023.666667  77504.666667     71336.500000        78246.444444   \n",
            "\n",
            "job_title    Manager Engineer  Manager Manager  Senior Analyst  \\\n",
            "department                                                       \n",
            "Engineering      81209.769231     70045.400000    87117.125000   \n",
            "Enginering       87544.000000              NaN             NaN   \n",
            "Finance          80202.555556     88440.166667    88541.500000   \n",
            "HR               82605.000000     65264.444444    81661.000000   \n",
            "IT               77173.461538     92079.500000    77045.307692   \n",
            "Marketing        70557.800000     78042.800000    77534.750000   \n",
            "Marketting                NaN              NaN    86558.000000   \n",
            "Operations       82923.807692     76997.363636    75153.888889   \n",
            "Sales            78299.916667     89595.285714    84338.666667   \n",
            "\n",
            "job_title    Senior Consultant  Senior Engineer  Senior Manager  \n",
            "department                                                       \n",
            "Engineering       83725.600000     85090.666667    76519.200000  \n",
            "Enginering        88721.000000              NaN             NaN  \n",
            "Finance           72655.000000     85116.111111    66044.800000  \n",
            "HR                74589.333333     69449.666667    66040.444444  \n",
            "IT                86925.666667     90513.916667    70629.800000  \n",
            "Marketing         79096.400000     80380.142857    83242.363636  \n",
            "Marketting                 NaN     83981.000000             NaN  \n",
            "Operations        92407.000000     74503.142857    80326.636364  \n",
            "Sales             81481.142857     84448.444444    91659.333333  \n"
          ]
        }
      ]
    },
    {
      "cell_type": "code",
      "source": [
        "print(df.columns)\n"
      ],
      "metadata": {
        "colab": {
          "base_uri": "https://localhost:8080/"
        },
        "id": "C6DVCNwXdk6J",
        "outputId": "e05294d6-ce06-4ad6-8485-eb04368e4093"
      },
      "execution_count": null,
      "outputs": [
        {
          "output_type": "stream",
          "name": "stdout",
          "text": [
            "Index(['employee_id', 'first_name', 'last_name', 'email', 'phone',\n",
            "       'department', 'job_title', 'salary', 'join_date', 'performance_score',\n",
            "       'join_year', 'email_domain'],\n",
            "      dtype='object')\n"
          ]
        }
      ]
    },
    {
      "cell_type": "markdown",
      "source": [
        "Duplicate Row Removal"
      ],
      "metadata": {
        "id": "0aKE3czFeATW"
      }
    },
    {
      "cell_type": "code",
      "source": [
        "df.drop_duplicates(inplace=True)\n",
        "if df.duplicated().sum() == 0:\n",
        "    print(\"No duplicate rows remaining.\")\n",
        "else:\n",
        "    print(\"Duplicates still exist!\")\n"
      ],
      "metadata": {
        "colab": {
          "base_uri": "https://localhost:8080/"
        },
        "id": "wygGyPQVeCVt",
        "outputId": "0a2818a5-f4bf-481c-a2bf-6cb3dcc2ac0e"
      },
      "execution_count": null,
      "outputs": [
        {
          "output_type": "stream",
          "name": "stdout",
          "text": [
            "No duplicate rows remaining.\n"
          ]
        }
      ]
    },
    {
      "cell_type": "markdown",
      "source": [
        "Save the cleaned dataset"
      ],
      "metadata": {
        "id": "jRzmd1gOeE0R"
      }
    },
    {
      "cell_type": "code",
      "source": [
        "df.to_csv(\"cleaned_empd.csv\", index=False)\n",
        "\n",
        "print(\"Data cleaning completed. Processed file saved as 'cleaned_empd.csv'\")\n"
      ],
      "metadata": {
        "colab": {
          "base_uri": "https://localhost:8080/"
        },
        "id": "X-CHDKPOdynG",
        "outputId": "f67a1bb4-ec6d-4926-b7ab-c9cd9854e8c5"
      },
      "execution_count": null,
      "outputs": [
        {
          "output_type": "stream",
          "name": "stdout",
          "text": [
            "Data cleaning completed. Processed file saved as 'cleaned_empd.csv'\n"
          ]
        }
      ]
    },
    {
      "cell_type": "code",
      "source": [],
      "metadata": {
        "id": "gQ0i9dXteHDU"
      },
      "execution_count": null,
      "outputs": []
    }
  ]
}